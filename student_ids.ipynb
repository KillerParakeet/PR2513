{
 "cells": [
  {
   "cell_type": "markdown",
   "metadata": {},
   "source": [
    "Dodamo vse importe in definiramo začetno stanje."
   ]
  },
  {
   "cell_type": "code",
   "execution_count": 2,
   "metadata": {},
   "outputs": [],
   "source": [
    "from selenium import webdriver\n",
    "from bs4 import BeautifulSoup\n",
    "import pandas as pd\n",
    "import ast\n",
    "\n",
    "url_base = \"https://urnik.fri.uni-lj.si\"\n",
    "\n",
    "url_year = []\n",
    "valid_timetables = []"
   ]
  },
  {
   "cell_type": "markdown",
   "metadata": {},
   "source": [
    "Na url-ju `https://urnik.fri.uni-lj.si/timetable` dobimo seznam vseh urnikov, ki so na voljo. Za nekatere semestre obstaja več urnikov, a ima le en podatke, ostali pa so prazni. Spišemo kodo, ki nam bo poiskala neprazne urnike."
   ]
  },
  {
   "cell_type": "code",
   "execution_count": null,
   "metadata": {},
   "outputs": [],
   "source": [
    "driver = webdriver.Chrome()\n",
    "driver.get(url_base + \"/timetable\")\n",
    "\n",
    "soup = BeautifulSoup(driver.page_source, 'html.parser')\n",
    "\n",
    "timetables_section = soup.find('h1', string='Choose timetable').find_parent('div')\n",
    "\n",
    "# dobimo linke do vseh urnikov\n",
    "for a_tag in timetables_section.find_all('a'):\n",
    "    url_year.append(a_tag.get('href'))\n",
    "\n",
    "# loopamo cez vse urnike\n",
    "for year in url_year:\n",
    "    url = url_base + year\n",
    "\n",
    "    # gremo na zacetno stran urnika za leto in semester v seznamu\n",
    "    driver.get(url)\n",
    "    soup = BeautifulSoup(driver.page_source, 'html.parser')\n",
    "\n",
    "    # najdemo sekcijo s skupinami, poiscemo vse programe\n",
    "    groups_section = soup.find('h2', string='Groups').find_parent('td')\n",
    "    group_link = groups_section.find_all('a')\n",
    "\n",
    "    # ce najdemo podatke o skupinah\n",
    "    if len(group_link) > 0:\n",
    "        # poiscemo urnik za dodiplomski program vss in preverimo, ali je prazen\n",
    "        vss = groups_section.find('a', string='1. letnik, Računalništvo in informatika, prva stopnja: visokošolski strokovni')\n",
    "        vss_url = url_base + vss.get('href')\n",
    "        \n",
    "        driver.get(vss_url)\n",
    "        soup = BeautifulSoup(driver.page_source, 'html.parser')\n",
    "\n",
    "        # ce ima urnik vsaj en vnos/predmet, ga dodamo na seznam\n",
    "        subject_link = soup.find(class_=\"link-subject\")\n",
    "        if subject_link:\n",
    "            valid_timetables.append(vss_url)\n",
    "\n",
    "\n",
    "# sortiramo in izpisemo\n",
    "valid_timetables.sort()\n",
    "index = 0\n",
    "for timetable in valid_timetables:\n",
    "    print(f\"{index}. {timetable}\")\n",
    "    index = index + 1"
   ]
  },
  {
   "cell_type": "markdown",
   "metadata": {},
   "source": [
    "Pogledamo sortiran seznam urnikov. Odstranili bomo leto `2018/19` iz analize, saj letni urnik nima podatkov o skupinah. Imamo 4 urnike za leto `2020/21`, ročno odstranimo duplikate, tako kot urnik `test-predavanja`. Odstranimo še duplikat zimskega semestra leta `2023/24`. Ostane nam seznam validnih urnikov med leti `2019/20` in `2024/25`.<br><br>Odstranimo še zadnji del linka, da nam ostane osnovni link do urnika."
   ]
  },
  {
   "cell_type": "code",
   "execution_count": null,
   "metadata": {},
   "outputs": [],
   "source": [
    "valid_timetables.pop(16)\n",
    "valid_timetables.pop(13)\n",
    "valid_timetables.pop(6)\n",
    "valid_timetables.pop(5)\n",
    "valid_timetables.pop(0)\n",
    "\n",
    "valid_timetables = [url.rpartition('/')[0] for url in valid_timetables]\n",
    "\n",
    "index = 0\n",
    "for timetable in valid_timetables:\n",
    "    print(f\"{index}. {timetable}\")\n",
    "    index = index + 1"
   ]
  },
  {
   "cell_type": "markdown",
   "metadata": {},
   "source": [
    "Tako dobljene linke shranimo pretvorimo v DataFrame objekt in jih shranimo v .csv dokument."
   ]
  },
  {
   "cell_type": "code",
   "execution_count": null,
   "metadata": {},
   "outputs": [],
   "source": [
    "timetables = pd.DataFrame(valid_timetables, columns=['url'])\n",
    "\n",
    "def extract_year_semester(url):\n",
    "    years = url.split('fri-')[1].split('-')[0].split('_')\n",
    "    year = years[0][2:] + \"/\" + years[1][2:]\n",
    "\n",
    "    if 'zimski' in url:\n",
    "        semester = 1\n",
    "    else:\n",
    "        semester = 2\n",
    "\n",
    "    return year, semester\n",
    "\n",
    "# Apply the function to the DataFrame\n",
    "timetables[['url_year', 'url_semester']] = timetables['url'].apply(lambda x: pd.Series(extract_year_semester(x)))\n",
    "\n",
    "timetables.to_csv('timetables.csv', index=False)\n",
    "\n",
    "print(timetables)"
   ]
  },
  {
   "cell_type": "markdown",
   "metadata": {},
   "source": [
    "Sedaj se lotimo pridobivanja podatkov o študentih. Najprej po vzorcu zgeneriramo vse vpisne, ki jih bomo preverili."
   ]
  },
  {
   "cell_type": "code",
   "execution_count": null,
   "metadata": {},
   "outputs": [],
   "source": [
    "timetables = pd.read_csv(\"./timetables.csv\")\n",
    "\n",
    "# credit to andraz87\n",
    "student_ids = [\n",
    "    int(f\"63{str(leto_vpisa).zfill(2)}0{str(unique_id).zfill(3)}\")\n",
    "    for leto_vpisa in range(19, 25)\n",
    "    for unique_id in range(1, 540)\n",
    "]\n",
    "\n",
    "# 3234 students to check\n",
    "# print(len(student_ids))\n",
    "\n",
    "# transform into a dataframe\n",
    "students = pd.DataFrame(student_ids, columns=['student_id'])\n"
   ]
  },
  {
   "cell_type": "markdown",
   "metadata": {},
   "source": [
    "Najprej sem stestirala kodo na manjšem setu podatkov in hkrati ugotovila, koliko je najvišja individualna vpisna številka."
   ]
  },
  {
   "cell_type": "code",
   "execution_count": null,
   "metadata": {},
   "outputs": [],
   "source": [
    "# student_ids = [\n",
    "#     int(f\"63{str(leto_vpisa).zfill(2)}0{str(unique_id).zfill(3)}\")\n",
    "#     for leto_vpisa in range(19, 25)\n",
    "#     for unique_id in range(501, 600)\n",
    "\n",
    "# rezultat tega je highest_uniq.csv, kjer je najvišja vpisna v formatu 63XX0537\n",
    "# zaokrožimo in iščemo vpisne od 1 do 540"
   ]
  },
  {
   "cell_type": "markdown",
   "metadata": {},
   "source": [
    "Spišemo funkcije, ki jih bomo potrebovali:<br>- funkcija `get_url()` za sestavo linka,<br>- funkcija `get_subjects_per_student()`, ki vrne podatke o predmetih, ki jih je imel študent na urniku v danem letu in semestru,<br>- funkcija `get_student_data()`, ki za vsako leto in semester ustvari novo vrstico v dani tabeli in na njej kliče pomožno funkcijo `get_subjects_per_student()`,<br>- funkcija `remove_students_with_extra_subjects()`, ki odstrani študente s prevelikim številom predmetov v semestru<br>- in pa še funkcijo `delete_empty_rows()`, ki na koncu izbriše vse študente, ki niso imeli nobenih predmetov čez vsa leta"
   ]
  },
  {
   "cell_type": "code",
   "execution_count": 9,
   "metadata": {},
   "outputs": [],
   "source": [
    "# funkcija za sestavo linka\n",
    "def get_url(year, sem):\n",
    "    year_str = f\"{year}/{year+1}\"\n",
    "    url_row = timetables[(timetables['url_year'] == year_str) & (timetables['url_semester'] == sem)]\n",
    "    if len(url_row) == 0: return f\"ni urlja za leto {year} in semester {sem}\"\n",
    "    url = url_row.iloc[0]['url']\n",
    "    return url\n",
    "    \n",
    "\n",
    "# za danega studenta vrnemo predmete, ki jih je imel na urniku v danem letu in semestru\n",
    "def get_subjects_per_student(student_id, year, sem, url):\n",
    "    # preverimo, ali se je student ze sploh vpisal\n",
    "    if ( int(str(student_id)[2:4]) > int(year[:2]) ):\n",
    "        return \"\"\n",
    "    \n",
    "    url_student = f\"{url}/allocations?student={student_id}\"\n",
    "\n",
    "    try:\n",
    "        driver = webdriver.Chrome()\n",
    "        driver.get(url_student)\n",
    "\n",
    "        soup = BeautifulSoup(driver.page_source, 'html.parser')\n",
    "\n",
    "        subjects_section = soup.find_all(class_='entry-hover')\n",
    "\n",
    "        subjects_list = []\n",
    "\n",
    "        # nekateri linki so čudni in imajo preveč predmetov, npr\n",
    "        # tale \"student\" ma tko 400 predmetov???\n",
    "        # url = 'https://urnik.fri.uni-lj.si/timetable/fri-2021_2022-zimski-1-1/allocations?student=63210532'\n",
    "\n",
    "        #if len(subjects_section) > 15:\n",
    "        #    print(len(subjects_section))\n",
    "        #else:\n",
    "\n",
    "        if len(subjects_section) == 0:\n",
    "            return \"\"\n",
    "\n",
    "        for subject in subjects_section:\n",
    "            sub = subject.text.split('\\n')\n",
    "            # nekje so tutorske brez idja ki breakajo kodo ce ni vseh teh ifov\n",
    "            subject_id = \"\"\n",
    "            if len(sub) >= 5:\n",
    "                sub_2 = sub[4].strip()\n",
    "                if len(sub_2) >= 2:\n",
    "                    sub_3 = sub_2.split('(')\n",
    "                    if len(sub_3) >= 2:\n",
    "                        sub_4 = sub_3[1].split(')')\n",
    "                        if len(sub_4) >= 1:\n",
    "                            subject_id = sub_4[0]\n",
    "                    \n",
    "            if subject_id not in subjects_list:\n",
    "                subjects_list.append(subject_id)\n",
    "\n",
    "    finally:\n",
    "        driver.quit()\n",
    "\n",
    "    return subjects_list\n",
    "    \n",
    "\n",
    "# ustvarimo novo vrstico v dani tabeli in za vsako celico dobimo podatke o predmetih\n",
    "def get_student_data(table, year, sem, url):\n",
    "    year_str = f\"{year}/{year+1}\"\n",
    "    col_name = f\"{year_str}_{sem}\"\n",
    "    table[col_name] = table['student_id'].apply(lambda x: get_subjects_per_student(x, year_str, sem, url))\n",
    "    # checkpoint za podatke, ce vmes slucajno kaj crkne\n",
    "    file_name = f\"students_upto_{year}_{sem}.csv\"\n",
    "    table.to_csv(file_name, index=False)\n",
    "\n",
    "# nekateri studenti imajo nemogoce stevilo predmetov (cutoff je na 13, da ohranimo tiste, ki so se prepisali)\n",
    "def remove_students_with_extra_subjects(students_df):\n",
    "    indexes_to_drop = []\n",
    "    for index, student in students_df.iterrows():\n",
    "        for column in students_df.columns[1:]:\n",
    "            if not pd.isna(student[column]):\n",
    "                subjects = ast.literal_eval(student[column])\n",
    "\n",
    "                if len(subjects) > 13:\n",
    "                    indexes_to_drop.append(index)\n",
    "                    break \n",
    "    students_df.drop(indexes_to_drop, inplace=True)\n",
    "\n",
    "# brisemo vrstice studentov, ki nimajo niti enega predmeta\n",
    "def delete_empty_rows(data_frame):\n",
    "    indexes_to_drop = []\n",
    "    for index, row in data_frame.iterrows():\n",
    "        if all(isinstance(el, list) and len(el) == 0 or el == \"\" for el in row[1:]):\n",
    "            indexes_to_drop.append(index)\n",
    "    data_frame.drop(indexes_to_drop, inplace=True)"
   ]
  },
  {
   "cell_type": "markdown",
   "metadata": {},
   "source": [
    "Za vsako kombinacijo leta in semestra poiščemo url, in kličemo funkcijo `get_student_data()`. Končni rezultat shranimo v .csv datoteko."
   ]
  },
  {
   "cell_type": "code",
   "execution_count": null,
   "metadata": {},
   "outputs": [],
   "source": [
    "for year in range (19, 25):\n",
    "    for sem in range (1,3):\n",
    "        url = get_url(year, sem)\n",
    "        get_student_data(students, year, sem, url)\n",
    "\n",
    "students.to_csv('students.csv', index=False)"
   ]
  },
  {
   "cell_type": "markdown",
   "metadata": {},
   "source": [
    "Ustvarimo kopijo podatkov o študentih, odstranimo študente s prevelikim številom predmetov in prazne vrstice ter rezultat shranimo v .csv datoteko."
   ]
  },
  {
   "cell_type": "code",
   "execution_count": null,
   "metadata": {},
   "outputs": [],
   "source": [
    "students_copy = students.copy()\n",
    "remove_students_with_extra_subjects(students_copy)\n",
    "delete_empty_rows(students_copy)\n",
    "\n",
    "# znebili smo se 3234 - 2736 = 498 študentov\n",
    "\n",
    "students_copy.to_csv(\"./students_no_empty_rows.csv\", index=False)"
   ]
  },
  {
   "cell_type": "markdown",
   "metadata": {},
   "source": [
    "Odločili smo se, da bomo obravnavali le študente programov UNI in VSŠ. FRI izvaja tri interdisciplinarne programe:<br>- Računalništvo in matematika,<br>- Multimedija<br>- in Upravna informatika.<br>\n",
    "\n",
    "Iz letnih poročil najdemo podatke o vpisu. Tako si pomagamo pri oceni, približno koliko interdisciplinarnih študentov iščemo.\n",
    "Po pregledu predmetnika vidimo, da noben od teh interdisciplinarnih programov nima izbirnih predmetov v 1. letniku.\n",
    "\n",
    "\n",
    "<br><b>RAČUNALNIŠTVO IN MATEMATIKA</b> (na leto 40 mest)\n",
    "<br>2019: vpisanih 53, od tega 9 ponavljalcev\n",
    "<br>2020: vpisanih 51, od tega 6 ponavljalcev\n",
    "<br>2021: vpisanih 54, od tega 5 ponavljalcev\n",
    "<br>2022: vpisanih 52, od tega 7 ponavljalcev\n",
    "<br>2023: vpisanih 51, od tega 7 ponavljalcev\n",
    "<br>2024: vpisanih 44, od tega 0 ponavljalcev\n",
    "\n",
    "\n",
    "<br><b>MULTIMEDIJA</b> (na leto 45 mest)\n",
    "<br>2019: vpisanih 33\n",
    "<br>2020: vpisanih 38\n",
    "<br>2021: vpisanih 37/30 (disrepancy v letnih poročilih)\n",
    "<br>2022: vpisanih 46\n",
    "<br>2023: vpisanih 35\n",
    "<br>2024: vpisanih 48 \n",
    "\n",
    "\n",
    "<br><b>UPRAVNA INFORMATIKA</b> (na leto 25 mest)\n",
    "<br>ne najdem letnih poročil, vzeli bomo omejitev 25 mest"
   ]
  },
  {
   "cell_type": "markdown",
   "metadata": {},
   "source": [
    "Po pregledu predmetnika opazimo, da noben od programov v 1. letniku nima izbirnih predmetov. Definiramo sezname predmetov po semestrih za vsak program."
   ]
  },
  {
   "cell_type": "code",
   "execution_count": null,
   "metadata": {},
   "outputs": [],
   "source": [
    "# odv, p1\n",
    "rac_mat_1 = ['63204', '63277']\n",
    "#ars, p2\n",
    "rac_mat_2 = ['63212', '63278']\n",
    "\n",
    "# p1, oma\n",
    "multimedia_1 = ['63702I', '63202']\n",
    "# la, p2, multimedijske vsebine\n",
    "multimedia_2 = ['63207', '63278', '63288']\n",
    "\n",
    "# p1 (vss)\n",
    "up_inf_1 = ['63702I']\n",
    "# ovs, p2, pb\n",
    "up_inf_2 = ['63710', '63706', '63707']\n"
   ]
  },
  {
   "cell_type": "markdown",
   "metadata": {},
   "source": [
    "Napišemo funkcijo, ki nam vrne vse študente, ki imajo v prvem semestru leta vpisa identičen nabor predmetov kot dan argument. Kličemo jo trikrat, in za vsak program shranimo dobljeno .csv datoteko."
   ]
  },
  {
   "cell_type": "code",
   "execution_count": 18,
   "metadata": {},
   "outputs": [],
   "source": [
    "students = pd.read_csv(\"./students_no_empty_rows.csv\")\n",
    "\n",
    "def find_interdisciplinary_students(students_df, subjects_list):\n",
    "    interdisciplinary_students = []\n",
    "\n",
    "    for index, student in students_df.iterrows():\n",
    "        year = str(student['student_id'])[2:4]\n",
    "        column = f\"{int(year)}/{int(year)+1}_1\"\n",
    "\n",
    "        if not pd.isna(student[column]):\n",
    "            subjects = ast.literal_eval(student[column])\n",
    "\n",
    "            if isinstance(subjects, list) and (set(subjects) == set(subjects_list)):\n",
    "                interdisciplinary_students.append(student)\n",
    "\n",
    "    interdisciplinary_df = pd.DataFrame(interdisciplinary_students)\n",
    "    return interdisciplinary_df\n",
    "\n",
    "\n",
    "pd.DataFrame(find_interdisciplinary_students(students, rac_mat_1)).to_csv(\"./interdiscplinary_rac_mat\", index=False)\n",
    "pd.DataFrame(find_interdisciplinary_students(students, up_inf_1)).to_csv(\"./interdiscplinary_up_inf\", index=False)\n",
    "pd.DataFrame(find_interdisciplinary_students(students, multimedia_1)).to_csv(\"./interdiscplinary_multimedia\", index=False)"
   ]
  },
  {
   "cell_type": "markdown",
   "metadata": {},
   "source": [
    "Najdemo 263 študentov Računalništva in matematike, kar se ujema z našimi pričakovanji. "
   ]
  },
  {
   "cell_type": "code",
   "execution_count": 20,
   "metadata": {},
   "outputs": [],
   "source": [
    "# predelamo funkcijo tako, da doda vse studente, ki imajo vse te predmete v prvem in drugem semestru, tudi če so dodatni\n",
    "def find_interdisciplinary_students(students_df, subjects_1, subjects_2):\n",
    "    interdisciplinary_students = []\n",
    "\n",
    "    for index, student in students_df.iterrows():\n",
    "        year = str(student['student_id'])[2:4]\n",
    "        sem_1 = f\"{int(year)}/{int(year)+1}_1\"\n",
    "        sem_2 = f\"{int(year)}/{int(year)+1}_2\"\n",
    "\n",
    "        subjects_first_semester = ast.literal_eval(student[sem_1]) if not pd.isna(student[sem_1]) else []\n",
    "        subjects_second_semester = ast.literal_eval(student[sem_2]) if not pd.isna(student[sem_2]) else []\n",
    "\n",
    "        req_subjects = subjects_1 + subjects_2\n",
    "        taken_subjects = subjects_first_semester + subjects_second_semester\n",
    "\n",
    "        # Check if all specified subjects are present in the combined list\n",
    "        if set(req_subjects).issubset(set(taken_subjects)):\n",
    "            interdisciplinary_students.append(student)\n",
    "\n",
    "    # Create a new DataFrame from the list of interdisciplinary students\n",
    "    interdisciplinary_df = pd.DataFrame(interdisciplinary_students)\n",
    "\n",
    "    return interdisciplinary_df\n",
    "\n",
    "pd.DataFrame(find_interdisciplinary_students(students, multimedia_1, multimedia_2)).to_csv(\"./interdiscplinary_multimedia\")\n",
    "pd.DataFrame(find_interdisciplinary_students(students, up_inf_1, up_inf_2)).to_csv(\"./interdiscplinary_up_inf\")"
   ]
  },
  {
   "cell_type": "code",
   "execution_count": null,
   "metadata": {},
   "outputs": [],
   "source": []
  }
 ],
 "metadata": {
  "kernelspec": {
   "display_name": "env-jupyter",
   "language": "python",
   "name": "python3"
  },
  "language_info": {
   "codemirror_mode": {
    "name": "ipython",
    "version": 3
   },
   "file_extension": ".py",
   "mimetype": "text/x-python",
   "name": "python",
   "nbconvert_exporter": "python",
   "pygments_lexer": "ipython3",
   "version": "3.12.3"
  }
 },
 "nbformat": 4,
 "nbformat_minor": 2
}
