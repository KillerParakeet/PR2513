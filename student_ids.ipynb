{
 "cells": [
  {
   "cell_type": "markdown",
   "metadata": {},
   "source": [
    "TODO\n",
    "- zgenerirat vse vpisne\n",
    "- funkcija, ki za dani url (leto in semester) najde predmete, ki jih ima študent na urniku (iz hover texta, po tretji br znacki) in jih shrani v tabelo. ce ni predmetov, naj bo prazen vnos\n",
    "- to naredimo od leta vpisa do letos\n",
    "- odstranimo vpisne, ki imajo vse urnik entrye prazne"
   ]
  },
  {
   "cell_type": "markdown",
   "metadata": {},
   "source": [
    "Na url-ju `https://urnik.fri.uni-lj.si/timetable` dobimo seznam vseh urnikov, ki so na voljo. Za nekatere semestre obstaja več urnikov, a ima le en podatke, ostali pa so prazni. Spišemo kodo, ki nam bo poiskala neprazne urnike."
   ]
  },
  {
   "cell_type": "code",
   "execution_count": 1,
   "metadata": {},
   "outputs": [
    {
     "name": "stdout",
     "output_type": "stream",
     "text": [
      "0. https://urnik.fri.uni-lj.si/timetable/fri-2018_2019-zimski-1-6/allocations?group=37842\n",
      "1. https://urnik.fri.uni-lj.si/timetable/fri-2019_2020-letni-1-9/allocations?group=42918\n",
      "2. https://urnik.fri.uni-lj.si/timetable/fri-2019_2020-zimski-1-1/allocations?group=40595\n",
      "3. https://urnik.fri.uni-lj.si/timetable/fri-2020_2021-letni-1-9/allocations?group=45271\n",
      "4. https://urnik.fri.uni-lj.si/timetable/fri-2020_2021-zimski-1-10/allocations?group=43873\n",
      "5. https://urnik.fri.uni-lj.si/timetable/fri-2020_2021-zimski-drugi-teden/allocations?group=43873\n",
      "6. https://urnik.fri.uni-lj.si/timetable/fri-2020_2021-zimski-tretji-teden/allocations?group=43873\n",
      "7. https://urnik.fri.uni-lj.si/timetable/fri-2021_2022-letni-1-1/allocations?group=48173\n",
      "8. https://urnik.fri.uni-lj.si/timetable/fri-2021_2022-zimski-1-1/allocations?group=46315\n",
      "9. https://urnik.fri.uni-lj.si/timetable/fri-2022_2023-letni-1-10/allocations?group=51651\n",
      "10. https://urnik.fri.uni-lj.si/timetable/fri-2022_2023-zimski-1-1/allocations?group=49514\n",
      "11. https://urnik.fri.uni-lj.si/timetable/fri-2023_2024-letni-1-17/allocations?group=54389\n",
      "12. https://urnik.fri.uni-lj.si/timetable/fri-2023_2024-zimski-1-12/allocations?group=52844\n",
      "13. https://urnik.fri.uni-lj.si/timetable/fri-2023_2024-zimski/allocations?group=52844\n",
      "14. https://urnik.fri.uni-lj.si/timetable/fri-2024_2025-letni/allocations?group=59031\n",
      "15. https://urnik.fri.uni-lj.si/timetable/fri-2024_2025-zimski/allocations?group=55655\n",
      "16. https://urnik.fri.uni-lj.si/timetable/test-predavanja/allocations?group=55655\n"
     ]
    }
   ],
   "source": [
    "from selenium import webdriver\n",
    "from bs4 import BeautifulSoup\n",
    "\n",
    "url_base = \"https://urnik.fri.uni-lj.si\"\n",
    "\n",
    "url_year = []\n",
    "valid_timetables = []\n",
    "\n",
    "driver = webdriver.Chrome()\n",
    "driver.get(url_base + \"/timetable\")\n",
    "\n",
    "soup = BeautifulSoup(driver.page_source, 'html.parser')\n",
    "\n",
    "timetables_section = soup.find('h1', string='Choose timetable').find_parent('div')\n",
    "\n",
    "# dobimo linke do vseh urnikov\n",
    "for a_tag in timetables_section.find_all('a'):\n",
    "    url_year.append(a_tag.get('href'))\n",
    "\n",
    "# loopamo cez vse urnike\n",
    "for year in url_year:\n",
    "    url = url_base + year\n",
    "\n",
    "    # gremo na zacetno stran urnika za leto in semester v seznamu\n",
    "    driver.get(url)\n",
    "    soup = BeautifulSoup(driver.page_source, 'html.parser')\n",
    "\n",
    "    # najdemo sekcijo s skupinami, poiscemo vse programe\n",
    "    groups_section = soup.find('h2', string='Groups').find_parent('td')\n",
    "    group_link = groups_section.find_all('a')\n",
    "\n",
    "    # ce najdemo podatke o skupinah\n",
    "    if len(group_link) > 0:\n",
    "        # poiscemo urnik za dodiplomski program vss in preverimo, ali je prazen\n",
    "        vss = groups_section.find('a', string='1. letnik, Računalništvo in informatika, prva stopnja: visokošolski strokovni')\n",
    "        vss_url = url_base + vss.get('href')\n",
    "        \n",
    "        driver.get(vss_url)\n",
    "        soup = BeautifulSoup(driver.page_source, 'html.parser')\n",
    "\n",
    "        # ce ima urnik vsaj en vnos/predmet, ga dodamo na seznam\n",
    "        subject_link = soup.find_all(class_=\"link-subject\")\n",
    "        if subject_link:\n",
    "            valid_timetables.append(vss_url)\n",
    "\n",
    "\n",
    "# sortiramo in izpisemo\n",
    "valid_timetables.sort()\n",
    "index = 0\n",
    "for timetable in valid_timetables:\n",
    "    print(f\"{index}. {timetable}\")\n",
    "    index = index + 1"
   ]
  },
  {
   "cell_type": "markdown",
   "metadata": {},
   "source": [
    "Pogledamo sortiran seznam urnikov. Odstranili bomo leto `2018/19` iz analize, saj letni urnik nima podatkov o skupinah. Imamo 4 urnike za leto `2020/21`, ročno odstranimo duplikate, tako kot urnik `test-predavanja`. Odstranimo še duplikat zimskega semestra leta `2023/24`. Ostane nam seznam validnih urnikov med leti `2019/20` in `2024/25`.<br><br>Odstranimo še zadnji del linka, da nam ostane osnovni link do urnika."
   ]
  },
  {
   "cell_type": "code",
   "execution_count": 2,
   "metadata": {},
   "outputs": [
    {
     "name": "stdout",
     "output_type": "stream",
     "text": [
      "0. https://urnik.fri.uni-lj.si/timetable/fri-2019_2020-letni-1-9\n",
      "1. https://urnik.fri.uni-lj.si/timetable/fri-2019_2020-zimski-1-1\n",
      "2. https://urnik.fri.uni-lj.si/timetable/fri-2020_2021-letni-1-9\n",
      "3. https://urnik.fri.uni-lj.si/timetable/fri-2020_2021-zimski-1-10\n",
      "4. https://urnik.fri.uni-lj.si/timetable/fri-2021_2022-letni-1-1\n",
      "5. https://urnik.fri.uni-lj.si/timetable/fri-2021_2022-zimski-1-1\n",
      "6. https://urnik.fri.uni-lj.si/timetable/fri-2022_2023-letni-1-10\n",
      "7. https://urnik.fri.uni-lj.si/timetable/fri-2022_2023-zimski-1-1\n",
      "8. https://urnik.fri.uni-lj.si/timetable/fri-2023_2024-letni-1-17\n",
      "9. https://urnik.fri.uni-lj.si/timetable/fri-2023_2024-zimski-1-12\n",
      "10. https://urnik.fri.uni-lj.si/timetable/fri-2024_2025-letni\n",
      "11. https://urnik.fri.uni-lj.si/timetable/fri-2024_2025-zimski\n"
     ]
    }
   ],
   "source": [
    "valid_timetables.pop(16)\n",
    "valid_timetables.pop(13)\n",
    "valid_timetables.pop(6)\n",
    "valid_timetables.pop(5)\n",
    "valid_timetables.pop(0)\n",
    "\n",
    "valid_timetables = [url.rpartition('/')[0] for url in valid_timetables]\n",
    "\n",
    "index = 0\n",
    "for timetable in valid_timetables:\n",
    "    print(f\"{index}. {timetable}\")\n",
    "    index = index + 1"
   ]
  },
  {
   "cell_type": "markdown",
   "metadata": {},
   "source": [
    "Tako dobljene linke shranimo pretvorimo v DataFrame objekt in jih shranimo v .csv dokument."
   ]
  },
  {
   "cell_type": "code",
   "execution_count": null,
   "metadata": {},
   "outputs": [
    {
     "name": "stdout",
     "output_type": "stream",
     "text": [
      "                                                    0\n",
      "0   https://urnik.fri.uni-lj.si/timetable/fri-2019...\n",
      "1   https://urnik.fri.uni-lj.si/timetable/fri-2019...\n",
      "2   https://urnik.fri.uni-lj.si/timetable/fri-2020...\n",
      "3   https://urnik.fri.uni-lj.si/timetable/fri-2020...\n",
      "4   https://urnik.fri.uni-lj.si/timetable/fri-2021...\n",
      "5   https://urnik.fri.uni-lj.si/timetable/fri-2021...\n",
      "6   https://urnik.fri.uni-lj.si/timetable/fri-2022...\n",
      "7   https://urnik.fri.uni-lj.si/timetable/fri-2022...\n",
      "8   https://urnik.fri.uni-lj.si/timetable/fri-2023...\n",
      "9   https://urnik.fri.uni-lj.si/timetable/fri-2023...\n",
      "10  https://urnik.fri.uni-lj.si/timetable/fri-2024...\n",
      "11  https://urnik.fri.uni-lj.si/timetable/fri-2024...\n"
     ]
    }
   ],
   "source": [
    "import pandas as pd\n",
    "\n",
    "timetables = pd.DataFrame(valid_timetables)\n",
    "timetables.to_csv('timetables.csv', index=False)\n",
    "\n",
    "print(timetables)"
   ]
  }
 ],
 "metadata": {
  "kernelspec": {
   "display_name": "env-jupyter",
   "language": "python",
   "name": "python3"
  },
  "language_info": {
   "codemirror_mode": {
    "name": "ipython",
    "version": 3
   },
   "file_extension": ".py",
   "mimetype": "text/x-python",
   "name": "python",
   "nbconvert_exporter": "python",
   "pygments_lexer": "ipython3",
   "version": "3.12.3"
  }
 },
 "nbformat": 4,
 "nbformat_minor": 2
}
