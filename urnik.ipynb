{
 "cells": [
  {
   "cell_type": "code",
   "execution_count": 1,
   "id": "75e62274",
   "metadata": {},
   "outputs": [
    {
     "data": {
      "text/plain": [
       "['FRI 2018/2019, zimski semester',\n",
       " 'FRI 2019/2020, zimski semester',\n",
       " 'FRI 2019/2020, letni semester',\n",
       " 'FRI 2020/2021, zimski semester',\n",
       " 'FRI 2020/2021, letni semester',\n",
       " 'FRI 2021/2022, zimski semester',\n",
       " 'FRI 2021/2022, letni semester',\n",
       " 'FRI 2022/2023, zimski semester',\n",
       " 'FRI 2022/2023, letni semester',\n",
       " 'FRI 2023/2024, zimski semester',\n",
       " 'FRI 2023/2024, letni semester',\n",
       " 'FRI 2024/2025, zimski semester',\n",
       " 'FRI 2024/2025, letni semester']"
      ]
     },
     "execution_count": 1,
     "metadata": {},
     "output_type": "execute_result"
    }
   ],
   "source": [
    "semestri = []\n",
    "\n",
    "for i in range(18,25):\n",
    "    leto = \"FRI \" + \"20\" + str(i) + \"/20\" + str(i + 1)\n",
    "    semestri.append(leto + \", zimski semester\")\n",
    "    semestri.append(leto + \", letni semester\")\n",
    "    \n",
    "semestri.remove(\"FRI 2018/2019, letni semester\") #na spletni strani ni podatka o skupinah\n",
    "semestri\n"
   ]
  },
  {
   "cell_type": "markdown",
   "id": "9e20e316",
   "metadata": {},
   "source": [
    "pripravim selenium"
   ]
  },
  {
   "cell_type": "code",
   "execution_count": 2,
   "id": "f24ea0b6",
   "metadata": {},
   "outputs": [],
   "source": [
    "from selenium import webdriver\n",
    "from selenium.webdriver.common.by import By\n",
    "from selenium.webdriver.support.ui import WebDriverWait\n",
    "from selenium.webdriver.support import expected_conditions as EC\n",
    "\n",
    "\n",
    "BASE_URL = \"https://urnik.fri.uni-lj.si/timetable\" \n",
    "all_data = []\n",
    "\n",
    "driver = webdriver.Chrome()\n",
    "driver.get(BASE_URL)\n"
   ]
  },
  {
   "cell_type": "markdown",
   "id": "0e4b3635",
   "metadata": {},
   "source": [
    "dobim dejanske semestre iz HTML"
   ]
  },
  {
   "cell_type": "code",
   "execution_count": 3,
   "id": "2847e098",
   "metadata": {},
   "outputs": [
    {
     "data": {
      "text/plain": [
       "[('FRI 2024/2025, zimski semester',\n",
       "  'https://urnik.fri.uni-lj.si/timetable/fri-2024_2025-zimski'),\n",
       " ('FRI 2023/2024, zimski semester',\n",
       "  'https://urnik.fri.uni-lj.si/timetable/fri-2023_2024-zimski'),\n",
       " ('FRI 2023/2024, letni semester',\n",
       "  'https://urnik.fri.uni-lj.si/timetable/fri-2023_2024-letni'),\n",
       " ('FRI 2024/2025, letni semester',\n",
       "  'https://urnik.fri.uni-lj.si/timetable/fri-2024_2025-letni'),\n",
       " ('FRI 2020/2021, zimski semester',\n",
       "  'https://urnik.fri.uni-lj.si/timetable/fri-2020_2021-zimski'),\n",
       " ('FRI 2021/2022, zimski semester',\n",
       "  'https://urnik.fri.uni-lj.si/timetable/fri-2021_2022-zimski'),\n",
       " ('FRI 2022/2023, zimski semester',\n",
       "  'https://urnik.fri.uni-lj.si/timetable/fri-2022_2023-zimski'),\n",
       " ('FRI 2022/2023, letni semester-1-10',\n",
       "  'https://urnik.fri.uni-lj.si/timetable/fri-2022_2023-letni-1-10'),\n",
       " ('FRI 2021/2022, letni semester',\n",
       "  'https://urnik.fri.uni-lj.si/timetable/fri-2021_2022-letni-1-1'),\n",
       " ('FRI 2020/2021, letni semester-1-9',\n",
       "  'https://urnik.fri.uni-lj.si/timetable/fri-2020_2021-letni-1-9'),\n",
       " ('FRI 2019/2020, letni semester',\n",
       "  'https://urnik.fri.uni-lj.si/timetable/fri-2019_2020-letni-1-9'),\n",
       " ('FRI 2019/2020, zimski semester-1-1',\n",
       "  'https://urnik.fri.uni-lj.si/timetable/fri-2019_2020-zimski-1-1'),\n",
       " ('FRI 2018/2019, zimski semester-1-6',\n",
       "  'https://urnik.fri.uni-lj.si/timetable/fri-2018_2019-zimski-1-6')]"
      ]
     },
     "execution_count": 3,
     "metadata": {},
     "output_type": "execute_result"
    }
   ],
   "source": [
    "\n",
    "try:\n",
    "\n",
    "    p_element = driver.find_element(By.TAG_NAME, \"p\")\n",
    "    links = p_element.find_elements(By.TAG_NAME, \"a\")\n",
    "\n",
    "\n",
    "\n",
    "\n",
    "except Exception as e:\n",
    "    print(f\"Napaka pri semestru: {e}\")\n",
    "\n",
    "seznam = [(link.text, link.get_attribute(\"href\")) for link in links]\n",
    "seznam.reverse()\n",
    "\n",
    "prve_pojavitve = {}\n",
    "\n",
    "for text, href in seznam:\n",
    "    for sem in semestri:\n",
    "        if sem in text and sem not in prve_pojavitve:\n",
    "            prve_pojavitve[sem] = (text, href)\n",
    "\n",
    "\n",
    "rezultat = list(prve_pojavitve.values())\n",
    "rezultat\n"
   ]
  },
  {
   "cell_type": "markdown",
   "id": "9d44200c",
   "metadata": {},
   "source": [
    "dobim podatke o predmetih po semestrih za letnike"
   ]
  },
  {
   "cell_type": "code",
   "execution_count": 4,
   "id": "a660f7d8",
   "metadata": {},
   "outputs": [],
   "source": [
    "predmeti = []\n",
    "\n",
    "# povezave na semester\n",
    "for semester, povezava in rezultat:\n",
    "    driver.get(povezava)\n",
    "\n",
    "    # 1. letnik\n",
    "    try:\n",
    "        link_element = driver.find_element(By.XPATH, \"//a[contains(text(), '1. letnik, Računalništvo in informatika, prva stopnja: visokošolski strokovni')]\")\n",
    "        link_element.click()\n",
    "        elements_with_p = [element for element in driver.find_elements(By.XPATH, \"//a[contains(text(), '_P')]\") if element.text.endswith('_P')]\n",
    "        for element in elements_with_p:\n",
    "            text = element.text\n",
    "            href = element.get_attribute(\"href\")\n",
    "            predmeti.append((text, href, semester, 1))\n",
    "    except Exception as e:\n",
    "        print(f\"[Napaka - VSS1] Semester: {semester}, URL: {povezava}\\n{e}\")\n",
    "\n",
    "    # 2. letnik\n",
    "    try:\n",
    "        driver.get(povezava)\n",
    "        link_element = driver.find_element(By.XPATH, \"//a[contains(text(), '2. letnik, Računalništvo in informatika, prva stopnja: visokošolski strokovni')]\")\n",
    "        link_element.click()\n",
    "        elements_with_p = [element for element in driver.find_elements(By.XPATH, \"//a[contains(text(), '_P')]\") if element.text.endswith('_P')]\n",
    "        for element in elements_with_p:\n",
    "            text = element.text\n",
    "            href = element.get_attribute(\"href\")\n",
    "            predmeti.append((text, href, semester, 2))\n",
    "    except Exception as e:\n",
    "        print(f\"[Napaka - VSS2] Semester: {semester}, URL: {povezava}\\n{e}\")\n",
    "\n",
    "    # 3. letnik\n",
    "    try:\n",
    "        driver.get(povezava)\n",
    "        link_element = driver.find_element(By.XPATH, \"//a[contains(text(), '3. letnik, Računalništvo in informatika, prva stopnja: visokošolski strokovni')]\")\n",
    "        link_element.click()\n",
    "        elements_with_p = [element for element in driver.find_elements(By.XPATH, \"//a[contains(text(), '_P')]\") if element.text.endswith('_P')]\n",
    "        for element in elements_with_p:\n",
    "            text = element.text\n",
    "            href = element.get_attribute(\"href\")\n",
    "            predmeti.append((text, href, semester, 3))\n",
    "    except Exception as e:\n",
    "        print(f\"[Napaka - VSS3] Semester: {semester}, URL: {povezava}\\n{e}\")\n"
   ]
  },
  {
   "cell_type": "code",
   "execution_count": 5,
   "id": "d2f70271",
   "metadata": {},
   "outputs": [],
   "source": [
    "kratica_ime = {}\n",
    "\n",
    "for kratica, povezava, semester, letnik in predmeti:\n",
    "    driver.get(povezava)\n",
    "\n",
    "    try:\n",
    "        subtitle_element = driver.find_element(By.CLASS_NAME, \"subtitle\")\n",
    "        kratica_ime[kratica] = subtitle_element.text\n",
    "    except Exception as e:\n",
    "        print(f\"Napaka pri pridobivanju elementa z razredom 'subtitle' za {kratica}: {e}\")\n",
    "\n"
   ]
  },
  {
   "cell_type": "markdown",
   "id": "3a81155c",
   "metadata": {},
   "source": [
    "kratica_ime je slovar v katerem se nahaj kratica predmeta in ime predmeta (kratica: ime)\n",
    "\n",
    "v seznamu predmeti se nahaja terka z (kratica, povezava, semester, letnik)"
   ]
  },
  {
   "cell_type": "code",
   "execution_count": 6,
   "id": "0e1b224c",
   "metadata": {},
   "outputs": [
    {
     "data": {
      "application/vnd.microsoft.datawrangler.viewer.v0+json": {
       "columns": [
        {
         "name": "index",
         "rawType": "int64",
         "type": "integer"
        },
        {
         "name": "kratica",
         "rawType": "object",
         "type": "string"
        },
        {
         "name": "ime",
         "rawType": "object",
         "type": "string"
        },
        {
         "name": "semester",
         "rawType": "object",
         "type": "string"
        },
        {
         "name": "letnik",
         "rawType": "int64",
         "type": "integer"
        }
       ],
       "conversionMethod": "pd.DataFrame",
       "ref": "1bf7e60b-85cd-409f-aec3-169cfa1f8868",
       "rows": [
        [
         "0",
         "DS(63705)_P",
         "Diskretne strukture",
         "24/25/1",
         "1"
        ],
        [
         "1",
         "RA_P",
         "Računalniška arhitektura",
         "24/25/1",
         "1"
        ],
        [
         "2",
         "M_P",
         "Matematika",
         "24/25/1",
         "1"
        ],
        [
         "3",
         "P1_P",
         "Programiranje 1",
         "24/25/1",
         "1"
        ],
        [
         "4",
         "UR_P",
         "Uvod v računalništvo",
         "24/25/1",
         "1"
        ],
        [
         "5",
         "EMP_P",
         "Elektronsko in mobilno poslovanje",
         "24/25/1",
         "2"
        ],
        [
         "6",
         "KPOV_P",
         "Komunikacijski protokoli in omrežna varnost",
         "24/25/1",
         "2"
        ],
        [
         "7",
         "TV_P",
         "Tehnične veščine",
         "24/25/1",
         "2"
        ],
        [
         "8",
         "UI(63720)_P",
         "Umetna inteligenca",
         "24/25/1",
         "2"
        ],
        [
         "9",
         "_P",
         "Tehnične veščine 2",
         "24/25/1",
         "2"
        ]
       ],
       "shape": {
        "columns": 4,
        "rows": 10
       }
      },
      "text/html": [
       "<div>\n",
       "<style scoped>\n",
       "    .dataframe tbody tr th:only-of-type {\n",
       "        vertical-align: middle;\n",
       "    }\n",
       "\n",
       "    .dataframe tbody tr th {\n",
       "        vertical-align: top;\n",
       "    }\n",
       "\n",
       "    .dataframe thead th {\n",
       "        text-align: right;\n",
       "    }\n",
       "</style>\n",
       "<table border=\"1\" class=\"dataframe\">\n",
       "  <thead>\n",
       "    <tr style=\"text-align: right;\">\n",
       "      <th></th>\n",
       "      <th>kratica</th>\n",
       "      <th>ime</th>\n",
       "      <th>semester</th>\n",
       "      <th>letnik</th>\n",
       "    </tr>\n",
       "  </thead>\n",
       "  <tbody>\n",
       "    <tr>\n",
       "      <th>0</th>\n",
       "      <td>DS(63705)_P</td>\n",
       "      <td>Diskretne strukture</td>\n",
       "      <td>24/25/1</td>\n",
       "      <td>1</td>\n",
       "    </tr>\n",
       "    <tr>\n",
       "      <th>1</th>\n",
       "      <td>RA_P</td>\n",
       "      <td>Računalniška arhitektura</td>\n",
       "      <td>24/25/1</td>\n",
       "      <td>1</td>\n",
       "    </tr>\n",
       "    <tr>\n",
       "      <th>2</th>\n",
       "      <td>M_P</td>\n",
       "      <td>Matematika</td>\n",
       "      <td>24/25/1</td>\n",
       "      <td>1</td>\n",
       "    </tr>\n",
       "    <tr>\n",
       "      <th>3</th>\n",
       "      <td>P1_P</td>\n",
       "      <td>Programiranje 1</td>\n",
       "      <td>24/25/1</td>\n",
       "      <td>1</td>\n",
       "    </tr>\n",
       "    <tr>\n",
       "      <th>4</th>\n",
       "      <td>UR_P</td>\n",
       "      <td>Uvod v računalništvo</td>\n",
       "      <td>24/25/1</td>\n",
       "      <td>1</td>\n",
       "    </tr>\n",
       "    <tr>\n",
       "      <th>5</th>\n",
       "      <td>EMP_P</td>\n",
       "      <td>Elektronsko in mobilno poslovanje</td>\n",
       "      <td>24/25/1</td>\n",
       "      <td>2</td>\n",
       "    </tr>\n",
       "    <tr>\n",
       "      <th>6</th>\n",
       "      <td>KPOV_P</td>\n",
       "      <td>Komunikacijski protokoli in omrežna varnost</td>\n",
       "      <td>24/25/1</td>\n",
       "      <td>2</td>\n",
       "    </tr>\n",
       "    <tr>\n",
       "      <th>7</th>\n",
       "      <td>TV_P</td>\n",
       "      <td>Tehnične veščine</td>\n",
       "      <td>24/25/1</td>\n",
       "      <td>2</td>\n",
       "    </tr>\n",
       "    <tr>\n",
       "      <th>8</th>\n",
       "      <td>UI(63720)_P</td>\n",
       "      <td>Umetna inteligenca</td>\n",
       "      <td>24/25/1</td>\n",
       "      <td>2</td>\n",
       "    </tr>\n",
       "    <tr>\n",
       "      <th>9</th>\n",
       "      <td>_P</td>\n",
       "      <td>Tehnične veščine 2</td>\n",
       "      <td>24/25/1</td>\n",
       "      <td>2</td>\n",
       "    </tr>\n",
       "  </tbody>\n",
       "</table>\n",
       "</div>"
      ],
      "text/plain": [
       "       kratica                                          ime semester  letnik\n",
       "0  DS(63705)_P                          Diskretne strukture  24/25/1       1\n",
       "1         RA_P                     Računalniška arhitektura  24/25/1       1\n",
       "2          M_P                                   Matematika  24/25/1       1\n",
       "3         P1_P                              Programiranje 1  24/25/1       1\n",
       "4         UR_P                         Uvod v računalništvo  24/25/1       1\n",
       "5        EMP_P            Elektronsko in mobilno poslovanje  24/25/1       2\n",
       "6       KPOV_P  Komunikacijski protokoli in omrežna varnost  24/25/1       2\n",
       "7         TV_P                             Tehnične veščine  24/25/1       2\n",
       "8  UI(63720)_P                           Umetna inteligenca  24/25/1       2\n",
       "9           _P                           Tehnične veščine 2  24/25/1       2"
      ]
     },
     "execution_count": 6,
     "metadata": {},
     "output_type": "execute_result"
    }
   ],
   "source": [
    "import pandas as pd\n",
    "\n",
    "\n",
    "def pretvori_semester(semester):\n",
    "    leto1 = semester[6:8]\n",
    "    leto2 = semester[11:13]\n",
    "    if \"zimski\" in semester:\n",
    "        sem = 1\n",
    "    elif \"letni\" in semester:\n",
    "        sem = 2\n",
    "    return f\"{leto1}/{leto2}/{sem}\"\n",
    "\n",
    "# priprava podatkov za DataFrame\n",
    "data = []\n",
    "for kratica, _, semester, letnik in predmeti:\n",
    "    ime = kratica_ime.get(kratica, \"Neznano ime\")\n",
    "    nov_semester = pretvori_semester(semester)\n",
    "    data.append((kratica, ime, nov_semester, letnik))\n",
    "\n",
    "# ustvarimo DataFrame\n",
    "df_predmeti = pd.DataFrame(data, columns=[\"kratica\", \"ime\", \"semester\", \"letnik\"])\n",
    "\n",
    "\n",
    "driver.quit()\n",
    "\n",
    "df_predmeti.head(10)"
   ]
  },
  {
   "cell_type": "markdown",
   "id": "31de1a79",
   "metadata": {},
   "source": [
    "od tu naprej pridobivam podatke o posameznih študentih"
   ]
  },
  {
   "cell_type": "markdown",
   "id": "08391fa2",
   "metadata": {},
   "source": [
    "ustvarimo seznam vpisnih številk"
   ]
  },
  {
   "cell_type": "code",
   "execution_count": 7,
   "id": "76f7a4b4",
   "metadata": {},
   "outputs": [
    {
     "data": {
      "text/plain": [
       "[63180000,\n",
       " 63180001,\n",
       " 63180002,\n",
       " 63180003,\n",
       " 63180004,\n",
       " 63180005,\n",
       " 63180006,\n",
       " 63180007,\n",
       " 63180008,\n",
       " 63180009]"
      ]
     },
     "execution_count": 7,
     "metadata": {},
     "output_type": "execute_result"
    }
   ],
   "source": [
    "vpisne_stevilke = [\n",
    "    int(f\"63{str(dv).zfill(2)}0{str(tri).zfill(3)}\")\n",
    "    for dv in range(18, 25)\n",
    "    for tri in range(0, 501)\n",
    "]\n",
    "\n",
    "vpisne_stevilke[0:10]"
   ]
  },
  {
   "cell_type": "markdown",
   "id": "8842edb5",
   "metadata": {},
   "source": [
    "ustvarim tabelo s predmeti za studente"
   ]
  },
  {
   "cell_type": "code",
   "execution_count": 8,
   "id": "f901e62b",
   "metadata": {},
   "outputs": [
    {
     "data": {
      "application/vnd.microsoft.datawrangler.viewer.v0+json": {
       "columns": [
        {
         "name": "index",
         "rawType": "int64",
         "type": "integer"
        },
        {
         "name": "vpisna",
         "rawType": "int64",
         "type": "integer"
        },
        {
         "name": "predmet",
         "rawType": "object",
         "type": "string"
        },
        {
         "name": "semester",
         "rawType": "object",
         "type": "string"
        }
       ],
       "conversionMethod": "pd.DataFrame",
       "ref": "3ad1f3d1-b0c8-4aeb-a08c-e64a1908f103",
       "rows": [
        [
         "0",
         "63220299",
         "M_P",
         "23/24/1"
        ],
        [
         "1",
         "63220299",
         "DS(63705)_P",
         "23/24/1"
        ],
        [
         "2",
         "63220299",
         "OVS_P",
         "24/25/2"
        ],
        [
         "3",
         "63220299",
         "OVS_P",
         "22/23/2"
        ],
        [
         "4",
         "63220299",
         "OVS_P",
         "22/23/2"
        ],
        [
         "5",
         "63220299",
         "PB_P",
         "22/23/2"
        ],
        [
         "6",
         "63220299",
         "OS(63709)_P",
         "22/23/2"
        ],
        [
         "7",
         "63220299",
         "OVS_P",
         "22/23/2"
        ],
        [
         "8",
         "63220299",
         "P2_P",
         "22/23/2"
        ],
        [
         "9",
         "63220299",
         "RK(63708)_P",
         "22/23/2"
        ]
       ],
       "shape": {
        "columns": 3,
        "rows": 10
       }
      },
      "text/html": [
       "<div>\n",
       "<style scoped>\n",
       "    .dataframe tbody tr th:only-of-type {\n",
       "        vertical-align: middle;\n",
       "    }\n",
       "\n",
       "    .dataframe tbody tr th {\n",
       "        vertical-align: top;\n",
       "    }\n",
       "\n",
       "    .dataframe thead th {\n",
       "        text-align: right;\n",
       "    }\n",
       "</style>\n",
       "<table border=\"1\" class=\"dataframe\">\n",
       "  <thead>\n",
       "    <tr style=\"text-align: right;\">\n",
       "      <th></th>\n",
       "      <th>vpisna</th>\n",
       "      <th>predmet</th>\n",
       "      <th>semester</th>\n",
       "    </tr>\n",
       "  </thead>\n",
       "  <tbody>\n",
       "    <tr>\n",
       "      <th>0</th>\n",
       "      <td>63220299</td>\n",
       "      <td>M_P</td>\n",
       "      <td>23/24/1</td>\n",
       "    </tr>\n",
       "    <tr>\n",
       "      <th>1</th>\n",
       "      <td>63220299</td>\n",
       "      <td>DS(63705)_P</td>\n",
       "      <td>23/24/1</td>\n",
       "    </tr>\n",
       "    <tr>\n",
       "      <th>2</th>\n",
       "      <td>63220299</td>\n",
       "      <td>OVS_P</td>\n",
       "      <td>24/25/2</td>\n",
       "    </tr>\n",
       "    <tr>\n",
       "      <th>3</th>\n",
       "      <td>63220299</td>\n",
       "      <td>OVS_P</td>\n",
       "      <td>22/23/2</td>\n",
       "    </tr>\n",
       "    <tr>\n",
       "      <th>4</th>\n",
       "      <td>63220299</td>\n",
       "      <td>OVS_P</td>\n",
       "      <td>22/23/2</td>\n",
       "    </tr>\n",
       "    <tr>\n",
       "      <th>5</th>\n",
       "      <td>63220299</td>\n",
       "      <td>PB_P</td>\n",
       "      <td>22/23/2</td>\n",
       "    </tr>\n",
       "    <tr>\n",
       "      <th>6</th>\n",
       "      <td>63220299</td>\n",
       "      <td>OS(63709)_P</td>\n",
       "      <td>22/23/2</td>\n",
       "    </tr>\n",
       "    <tr>\n",
       "      <th>7</th>\n",
       "      <td>63220299</td>\n",
       "      <td>OVS_P</td>\n",
       "      <td>22/23/2</td>\n",
       "    </tr>\n",
       "    <tr>\n",
       "      <th>8</th>\n",
       "      <td>63220299</td>\n",
       "      <td>P2_P</td>\n",
       "      <td>22/23/2</td>\n",
       "    </tr>\n",
       "    <tr>\n",
       "      <th>9</th>\n",
       "      <td>63220299</td>\n",
       "      <td>RK(63708)_P</td>\n",
       "      <td>22/23/2</td>\n",
       "    </tr>\n",
       "  </tbody>\n",
       "</table>\n",
       "</div>"
      ],
      "text/plain": [
       "     vpisna      predmet semester\n",
       "0  63220299          M_P  23/24/1\n",
       "1  63220299  DS(63705)_P  23/24/1\n",
       "2  63220299        OVS_P  24/25/2\n",
       "3  63220299        OVS_P  22/23/2\n",
       "4  63220299        OVS_P  22/23/2\n",
       "5  63220299         PB_P  22/23/2\n",
       "6  63220299  OS(63709)_P  22/23/2\n",
       "7  63220299        OVS_P  22/23/2\n",
       "8  63220299         P2_P  22/23/2\n",
       "9  63220299  RK(63708)_P  22/23/2"
      ]
     },
     "execution_count": 8,
     "metadata": {},
     "output_type": "execute_result"
    }
   ],
   "source": [
    "\n",
    "from selenium.common.exceptions import TimeoutException\n",
    "\n",
    "\n",
    "# --- Funkcije ---\n",
    "\n",
    "def leto_vpisa_iz_vpisne(vpisna):\n",
    "    return 2000 + int(str(vpisna)[2:4])  # npr. 63220299 -> 2022\n",
    "\n",
    "def leto_iz_semesterskega_opisa(opis):\n",
    "    try:\n",
    "        leto1 = int(opis[6:8])  # \"24\" iz \"FRI 2024/2025...\"\n",
    "        return 2000 + leto1\n",
    "    except:\n",
    "        return 0  # če gre kaj narobe\n",
    "\n",
    "\n",
    "# --- Glavna koda ---\n",
    "\n",
    "vpisne_stevilke = [63220299, 63240123, 63230146] #zbriši to vrstico za uporabo vseh vpisnih (zna trajat!!!)\n",
    "driver = webdriver.Chrome()\n",
    "wait = WebDriverWait(driver, 10)\n",
    "\n",
    "podatki = []\n",
    "\n",
    "for vpisna in vpisne_stevilke:\n",
    "    leto_vpisa = leto_vpisa_iz_vpisne(vpisna)\n",
    "\n",
    "    for semester_opis, povezava in rezultat:\n",
    "        leto_sem = leto_iz_semesterskega_opisa(semester_opis)\n",
    "\n",
    "        if leto_sem < leto_vpisa:\n",
    "            continue\n",
    "\n",
    "        driver.get(povezava)\n",
    "\n",
    "        try:\n",
    "            input_element = wait.until(EC.presence_of_element_located((By.ID, \"id_student\")))\n",
    "            input_element.clear()\n",
    "            input_element.send_keys(str(vpisna))\n",
    "\n",
    "            submit_button = driver.find_element(By.XPATH, \"//input[@type='submit' and @value='Show timetable']\")\n",
    "            submit_button.click()\n",
    "\n",
    "            try:\n",
    "                wait_short = WebDriverWait(driver, 1)\n",
    "                wait_short.until(EC.presence_of_all_elements_located((By.XPATH, \"//a[contains(text(), '_P')]\")))\n",
    "\n",
    "                predmeti = [\n",
    "                    el.text for el in driver.find_elements(By.XPATH, \"//a[contains(text(), '_P')]\")\n",
    "                    if el.text.endswith('_P')\n",
    "                ]\n",
    "\n",
    "                for predmet in predmeti:\n",
    "                    podatki.append({\n",
    "                        \"vpisna\": vpisna,\n",
    "                        \"predmet\": predmet,\n",
    "                        \"semester\": pretvori_semester(semester_opis)\n",
    "                    })\n",
    "\n",
    "            except TimeoutException:\n",
    "                continue\n",
    "\n",
    "        except Exception as e:\n",
    "            print(f\"Napaka pri vpisni {vpisna}, semester {semester_opis}: {e}\")\n",
    "            continue\n",
    "\n",
    "driver.quit()\n",
    "\n",
    "# Ustvari DataFrame\n",
    "df_studenti = pd.DataFrame(podatki)\n",
    "df_studenti.head(10)\n"
   ]
  }
 ],
 "metadata": {
  "kernelspec": {
   "display_name": ".venv",
   "language": "python",
   "name": "python3"
  },
  "language_info": {
   "codemirror_mode": {
    "name": "ipython",
    "version": 3
   },
   "file_extension": ".py",
   "mimetype": "text/x-python",
   "name": "python",
   "nbconvert_exporter": "python",
   "pygments_lexer": "ipython3",
   "version": "3.11.6"
  }
 },
 "nbformat": 4,
 "nbformat_minor": 5
}
