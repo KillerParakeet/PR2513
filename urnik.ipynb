{
 "cells": [
  {
   "cell_type": "code",
   "execution_count": 66,
   "id": "75e62274",
   "metadata": {},
   "outputs": [
    {
     "data": {
      "text/plain": [
       "['FRI 2016/2017, zimski semester',\n",
       " 'FRI 2016/2017, letni semester',\n",
       " 'FRI 2017/2018, zimski semester',\n",
       " 'FRI 2017/2018, letni semester',\n",
       " 'FRI 2018/2019, zimski semester',\n",
       " 'FRI 2018/2019, letni semester',\n",
       " 'FRI 2019/2020, zimski semester',\n",
       " 'FRI 2019/2020, letni semester',\n",
       " 'FRI 2020/2021, zimski semester',\n",
       " 'FRI 2020/2021, letni semester',\n",
       " 'FRI 2021/2022, zimski semester',\n",
       " 'FRI 2021/2022, letni semester',\n",
       " 'FRI 2022/2023, zimski semester',\n",
       " 'FRI 2022/2023, letni semester',\n",
       " 'FRI 2023/2024, zimski semester',\n",
       " 'FRI 2023/2024, letni semester',\n",
       " 'FRI 2024/2025, zimski semester',\n",
       " 'FRI 2024/2025, letni semester']"
      ]
     },
     "execution_count": 66,
     "metadata": {},
     "output_type": "execute_result"
    }
   ],
   "source": [
    "semestri = []\n",
    "\n",
    "for i in range(16,25):\n",
    "    leto = \"FRI \" + \"20\" + str(i) + \"/20\" + str(i + 1)\n",
    "    semestri.append(leto + \", zimski semester\")\n",
    "    semestri.append(leto + \", letni semester\")\n",
    "semestri\n"
   ]
  },
  {
   "cell_type": "markdown",
   "id": "9e20e316",
   "metadata": {},
   "source": []
  },
  {
   "cell_type": "code",
   "execution_count": 67,
   "id": "f24ea0b6",
   "metadata": {},
   "outputs": [],
   "source": [
    "from selenium import webdriver\n",
    "from selenium.webdriver.common.by import By\n",
    "from selenium.webdriver.support.ui import WebDriverWait\n",
    "from selenium.webdriver.support import expected_conditions as EC\n",
    "import pandas as pd\n",
    "import time\n",
    "\n",
    "\n",
    "BASE_URL = \"https://urnik.fri.uni-lj.si/timetable\" \n",
    "all_data = []\n",
    "\n",
    "driver = webdriver.Chrome()\n",
    "driver.get(BASE_URL)\n"
   ]
  },
  {
   "cell_type": "code",
   "execution_count": 68,
   "id": "2847e098",
   "metadata": {},
   "outputs": [
    {
     "data": {
      "text/plain": [
       "[('FRI 2024/2025, zimski semester',\n",
       "  'https://urnik.fri.uni-lj.si/timetable/fri-2024_2025-zimski'),\n",
       " ('FRI 2023/2024, zimski semester',\n",
       "  'https://urnik.fri.uni-lj.si/timetable/fri-2023_2024-zimski'),\n",
       " ('FRI 2023/2024, letni semester',\n",
       "  'https://urnik.fri.uni-lj.si/timetable/fri-2023_2024-letni'),\n",
       " ('FRI 2024/2025, letni semester',\n",
       "  'https://urnik.fri.uni-lj.si/timetable/fri-2024_2025-letni'),\n",
       " ('FRI 2020/2021, zimski semester',\n",
       "  'https://urnik.fri.uni-lj.si/timetable/fri-2020_2021-zimski'),\n",
       " ('FRI 2021/2022, zimski semester',\n",
       "  'https://urnik.fri.uni-lj.si/timetable/fri-2021_2022-zimski'),\n",
       " ('FRI 2022/2023, zimski semester',\n",
       "  'https://urnik.fri.uni-lj.si/timetable/fri-2022_2023-zimski'),\n",
       " ('FRI 2022/2023, letni semester-1-10',\n",
       "  'https://urnik.fri.uni-lj.si/timetable/fri-2022_2023-letni-1-10'),\n",
       " ('FRI 2021/2022, letni semester',\n",
       "  'https://urnik.fri.uni-lj.si/timetable/fri-2021_2022-letni-1-1'),\n",
       " ('FRI 2020/2021, letni semester-1-9',\n",
       "  'https://urnik.fri.uni-lj.si/timetable/fri-2020_2021-letni-1-9'),\n",
       " ('FRI 2019/2020, letni semester',\n",
       "  'https://urnik.fri.uni-lj.si/timetable/fri-2019_2020-letni-1-9'),\n",
       " ('FRI 2019/2020, zimski semester-1-1',\n",
       "  'https://urnik.fri.uni-lj.si/timetable/fri-2019_2020-zimski-1-1'),\n",
       " ('FRI 2018/2019, zimski semester-1-6',\n",
       "  'https://urnik.fri.uni-lj.si/timetable/fri-2018_2019-zimski-1-6'),\n",
       " ('FRI 2018/2019, letni semester-1-13',\n",
       "  'https://urnik.fri.uni-lj.si/timetable/fri-2018_2019-letni-1-13'),\n",
       " ('FRI 2017/2018, letni semester, 1. teden',\n",
       "  'https://urnik.fri.uni-lj.si/timetable/fri-2017_2018-letni-1-teden'),\n",
       " ('FRI 2017/2018, zimski semester, 1. teden',\n",
       "  'https://urnik.fri.uni-lj.si/timetable/fri-2017_2018-zimski'),\n",
       " ('FRI 2016/2017, letni semester',\n",
       "  'https://urnik.fri.uni-lj.si/timetable/fri-2016_2017-letni'),\n",
       " ('FRI 2016/2017, zimski semester, drugi teden',\n",
       "  'https://urnik.fri.uni-lj.si/timetable/fri-2016_2017-zimski-drugi-teden')]"
      ]
     },
     "execution_count": 68,
     "metadata": {},
     "output_type": "execute_result"
    }
   ],
   "source": [
    "\n",
    "try:\n",
    "\n",
    "    p_element = driver.find_element(By.TAG_NAME, \"p\")\n",
    "    links = p_element.find_elements(By.TAG_NAME, \"a\")\n",
    "\n",
    "\n",
    "\n",
    "\n",
    "except Exception as e:\n",
    "    print(f\"Napaka pri semestru: {e}\")\n",
    "\n",
    "seznam = [(link.text, link.get_attribute(\"href\")) for link in links]\n",
    "seznam.reverse()\n",
    "\n",
    "prve_pojavitve = {}\n",
    "\n",
    "for text, href in seznam:\n",
    "    for sem in semestri:\n",
    "        if sem in text and sem not in prve_pojavitve:\n",
    "            prve_pojavitve[sem] = (text, href)\n",
    "\n",
    "\n",
    "rezultat = list(prve_pojavitve.values())\n",
    "rezultat\n"
   ]
  },
  {
   "cell_type": "code",
   "execution_count": 69,
   "id": "a660f7d8",
   "metadata": {},
   "outputs": [
    {
     "data": {
      "text/plain": [
       "[('DS(63705)_P',\n",
       "  'https://urnik.fri.uni-lj.si/timetable/fri-2024_2025-zimski/allocations?subject=63705'),\n",
       " ('RA_P',\n",
       "  'https://urnik.fri.uni-lj.si/timetable/fri-2024_2025-zimski/allocations?subject=63703'),\n",
       " ('M_P',\n",
       "  'https://urnik.fri.uni-lj.si/timetable/fri-2024_2025-zimski/allocations?subject=63704'),\n",
       " ('P1_P',\n",
       "  'https://urnik.fri.uni-lj.si/timetable/fri-2024_2025-zimski/allocations?subject=63702'),\n",
       " ('UR_P',\n",
       "  'https://urnik.fri.uni-lj.si/timetable/fri-2024_2025-zimski/allocations?subject=63701')]"
      ]
     },
     "execution_count": 69,
     "metadata": {},
     "output_type": "execute_result"
    }
   ],
   "source": [
    "povezava  = \"https://urnik.fri.uni-lj.si/timetable/fri-2024_2025-zimski\"\n",
    "\n",
    "driver.get(povezava)\n",
    "try:\n",
    "    link_element = driver.find_element(By.XPATH, \"//a[contains(text(), '1. letnik, Računalništvo in informatika, prva stopnja: visokošolski strokovni')]\")\n",
    "    link_element.click()\n",
    "except Exception as e:\n",
    "    print(f\"Napaka pri kliku na element: {e}\")\n",
    "\n",
    "predmeti = []\n",
    "\n",
    "try:\n",
    "    elements_with_p = [element for element in driver.find_elements(By.XPATH, \"//a[contains(text(), '_P')]\") if element.text.endswith('_P')]\n",
    "    for element in elements_with_p:\n",
    "        text = element.text\n",
    "        href = element.get_attribute(\"href\")\n",
    "        predmeti.append((text, href))\n",
    "except Exception as e:\n",
    "    print(f\"Napaka pri iskanju elementov z '_P': {e}\")\n",
    "\n",
    "predmeti\n"
   ]
  },
  {
   "cell_type": "code",
   "execution_count": 70,
   "id": "d2f70271",
   "metadata": {},
   "outputs": [
    {
     "name": "stdout",
     "output_type": "stream",
     "text": [
      "{'DS(63705)_P': 'Diskretne strukture'}\n"
     ]
    }
   ],
   "source": [
    "kratica_ime = {}\n",
    "\n",
    "kratica, povezava = predmeti[0]\n",
    "\n",
    "driver.get(povezava)\n",
    "\n",
    "try:\n",
    "    subtitle_element = driver.find_element(By.CLASS_NAME, \"subtitle\")\n",
    "    kratica_ime[kratica] = subtitle_element.text\n",
    "except Exception as e:\n",
    "    print(f\"Napaka pri pridobivanju elementa z razredom 'subtitle': {e}\")\n",
    "\n",
    "\n",
    "print(kratica_ime)"
   ]
  },
  {
   "cell_type": "code",
   "execution_count": null,
   "id": "0e1b224c",
   "metadata": {},
   "outputs": [],
   "source": []
  }
 ],
 "metadata": {
  "kernelspec": {
   "display_name": ".venv",
   "language": "python",
   "name": "python3"
  },
  "language_info": {
   "codemirror_mode": {
    "name": "ipython",
    "version": 3
   },
   "file_extension": ".py",
   "mimetype": "text/x-python",
   "name": "python",
   "nbconvert_exporter": "python",
   "pygments_lexer": "ipython3",
   "version": "3.11.6"
  }
 },
 "nbformat": 4,
 "nbformat_minor": 5
}
