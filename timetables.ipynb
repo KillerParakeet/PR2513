{
 "cells": [
  {
   "cell_type": "markdown",
   "id": "b2558614",
   "metadata": {},
   "source": [
    "Dodamo vse importe in definiramo začetno stanje."
   ]
  },
  {
   "cell_type": "code",
   "execution_count": null,
   "id": "8cf21e0e",
   "metadata": {},
   "outputs": [],
   "source": [
    "from selenium import webdriver\n",
    "from bs4 import BeautifulSoup\n",
    "import pandas as pd\n",
    "import ast\n",
    "\n",
    "url_base = \"https://urnik.fri.uni-lj.si\"\n",
    "\n",
    "url_year = []\n",
    "valid_timetables = []"
   ]
  },
  {
   "cell_type": "markdown",
   "id": "314fde37",
   "metadata": {},
   "source": [
    "Na url-ju `https://urnik.fri.uni-lj.si/timetable` dobimo seznam vseh urnikov, ki so na voljo. Za nekatere semestre obstaja več urnikov, a ima le en podatke, ostali pa so prazni. Spišemo kodo, ki nam bo poiskala neprazne urnike."
   ]
  },
  {
   "cell_type": "code",
   "execution_count": null,
   "id": "2b958929",
   "metadata": {},
   "outputs": [],
   "source": [
    "driver = webdriver.Chrome()\n",
    "driver.get(url_base + \"/timetable\")\n",
    "\n",
    "soup = BeautifulSoup(driver.page_source, 'html.parser')\n",
    "\n",
    "timetables_section = soup.find('h1', string='Choose timetable').find_parent('div')\n",
    "\n",
    "# dobimo linke do vseh urnikov\n",
    "for a_tag in timetables_section.find_all('a'):\n",
    "    url_year.append(a_tag.get('href'))\n",
    "\n",
    "# loopamo cez vse urnike\n",
    "for year in url_year:\n",
    "    url = url_base + year\n",
    "\n",
    "    # gremo na zacetno stran urnika za leto in semester v seznamu\n",
    "    driver.get(url)\n",
    "    soup = BeautifulSoup(driver.page_source, 'html.parser')\n",
    "\n",
    "    # najdemo sekcijo s skupinami, poiscemo vse programe\n",
    "    groups_section = soup.find('h2', string='Groups').find_parent('td')\n",
    "    group_link = groups_section.find_all('a')\n",
    "\n",
    "    # ce najdemo podatke o skupinah\n",
    "    if len(group_link) > 0:\n",
    "        # poiscemo urnik za dodiplomski program vss in preverimo, ali je prazen\n",
    "        vss = groups_section.find('a', string='1. letnik, Računalništvo in informatika, prva stopnja: visokošolski strokovni')\n",
    "        vss_url = url_base + vss.get('href')\n",
    "        \n",
    "        driver.get(vss_url)\n",
    "        soup = BeautifulSoup(driver.page_source, 'html.parser')\n",
    "\n",
    "        # ce ima urnik vsaj en vnos/predmet, ga dodamo na seznam\n",
    "        subject_link = soup.find(class_=\"link-subject\")\n",
    "        if subject_link:\n",
    "            valid_timetables.append(vss_url)\n",
    "\n",
    "\n",
    "# sortiramo in izpisemo\n",
    "valid_timetables.sort()\n",
    "index = 0\n",
    "for timetable in valid_timetables:\n",
    "    print(f\"{index}. {timetable}\")\n",
    "    index = index + 1"
   ]
  },
  {
   "cell_type": "markdown",
   "id": "7e4cc8a0",
   "metadata": {},
   "source": [
    "Pogledamo sortiran seznam urnikov. Odstranili bomo leto `2018/19` iz analize, saj letni urnik nima podatkov o skupinah. Imamo 4 urnike za leto `2020/21`, ročno odstranimo duplikate, tako kot urnik `test-predavanja`. Odstranimo še duplikat zimskega semestra leta `2023/24`. Ostane nam seznam validnih urnikov med leti `2019/20` in `2024/25`.<br><br>Odstranimo še zadnji del linka, da nam ostane osnovni link do urnika."
   ]
  },
  {
   "cell_type": "code",
   "execution_count": null,
   "id": "c7503ca5",
   "metadata": {},
   "outputs": [],
   "source": [
    "valid_timetables.pop(16)\n",
    "valid_timetables.pop(13)\n",
    "valid_timetables.pop(6)\n",
    "valid_timetables.pop(5)\n",
    "valid_timetables.pop(0)\n",
    "\n",
    "valid_timetables = [url.rpartition('/')[0] for url in valid_timetables]\n",
    "\n",
    "index = 0\n",
    "for timetable in valid_timetables:\n",
    "    print(f\"{index}. {timetable}\")\n",
    "    index = index + 1"
   ]
  },
  {
   "cell_type": "markdown",
   "id": "20306c7f",
   "metadata": {},
   "source": [
    "Tako dobljene linke shranimo pretvorimo v DataFrame objekt in jih shranimo v .csv dokument."
   ]
  },
  {
   "cell_type": "code",
   "execution_count": null,
   "id": "a40e48a2",
   "metadata": {},
   "outputs": [],
   "source": [
    "timetables = pd.DataFrame(valid_timetables, columns=['url'])\n",
    "\n",
    "def extract_year_semester(url):\n",
    "    years = url.split('fri-')[1].split('-')[0].split('_')\n",
    "    year = years[0][2:] + \"/\" + years[1][2:]\n",
    "\n",
    "    if 'zimski' in url:\n",
    "        semester = 1\n",
    "    else:\n",
    "        semester = 2\n",
    "\n",
    "    return year, semester\n",
    "\n",
    "# Apply the function to the DataFrame\n",
    "timetables[['url_year', 'url_semester']] = timetables['url'].apply(lambda x: pd.Series(extract_year_semester(x)))\n",
    "\n",
    "timetables.to_csv('timetables.csv', index=False)\n",
    "\n",
    "print(timetables)"
   ]
  }
 ],
 "metadata": {
  "language_info": {
   "name": "python"
  }
 },
 "nbformat": 4,
 "nbformat_minor": 5
}
